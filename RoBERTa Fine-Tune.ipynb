{
 "cells": [
  {
   "cell_type": "code",
   "execution_count": 1,
   "id": "d277d36a-1999-4476-b74d-2c438c7899a0",
   "metadata": {
    "tags": []
   },
   "outputs": [
    {
     "data": {
      "application/vnd.jupyter.widget-view+json": {
       "model_id": "bec5d490c2224e15830085ea90496b8d",
       "version_major": 2,
       "version_minor": 0
      },
      "text/plain": [
       "tokenizer_config.json:   0%|          | 0.00/25.0 [00:00<?, ?B/s]"
      ]
     },
     "metadata": {},
     "output_type": "display_data"
    },
    {
     "data": {
      "application/vnd.jupyter.widget-view+json": {
       "model_id": "5435b48b8688416fbe829d4a72d2fc33",
       "version_major": 2,
       "version_minor": 0
      },
      "text/plain": [
       "config.json:   0%|          | 0.00/688 [00:00<?, ?B/s]"
      ]
     },
     "metadata": {},
     "output_type": "display_data"
    },
    {
     "data": {
      "application/vnd.jupyter.widget-view+json": {
       "model_id": "f67c5818713f47d8accd43e343234e74",
       "version_major": 2,
       "version_minor": 0
      },
      "text/plain": [
       "vocab.json:   0%|          | 0.00/899k [00:00<?, ?B/s]"
      ]
     },
     "metadata": {},
     "output_type": "display_data"
    },
    {
     "data": {
      "application/vnd.jupyter.widget-view+json": {
       "model_id": "e5740a3f863d468fa4d17f5d0d2663ce",
       "version_major": 2,
       "version_minor": 0
      },
      "text/plain": [
       "merges.txt:   0%|          | 0.00/456k [00:00<?, ?B/s]"
      ]
     },
     "metadata": {},
     "output_type": "display_data"
    },
    {
     "data": {
      "application/vnd.jupyter.widget-view+json": {
       "model_id": "6d04f419607a438582bb68b8758d30b8",
       "version_major": 2,
       "version_minor": 0
      },
      "text/plain": [
       "tokenizer.json:   0%|          | 0.00/1.36M [00:00<?, ?B/s]"
      ]
     },
     "metadata": {},
     "output_type": "display_data"
    },
    {
     "data": {
      "application/vnd.jupyter.widget-view+json": {
       "model_id": "60c0627eced44c859e7d9cc12cd3cca7",
       "version_major": 2,
       "version_minor": 0
      },
      "text/plain": [
       "model.safetensors:   0%|          | 0.00/1.43G [00:00<?, ?B/s]"
      ]
     },
     "metadata": {},
     "output_type": "display_data"
    },
    {
     "name": "stderr",
     "output_type": "stream",
     "text": [
      "Some weights of the model checkpoint at roberta-large-mnli were not used when initializing RobertaForSequenceClassification: ['roberta.pooler.dense.bias', 'roberta.pooler.dense.weight']\n",
      "- This IS expected if you are initializing RobertaForSequenceClassification from the checkpoint of a model trained on another task or with another architecture (e.g. initializing a BertForSequenceClassification model from a BertForPreTraining model).\n",
      "- This IS NOT expected if you are initializing RobertaForSequenceClassification from the checkpoint of a model that you expect to be exactly identical (initializing a BertForSequenceClassification model from a BertForSequenceClassification model).\n",
      "/opt/conda/lib/python3.12/site-packages/transformers/optimization.py:591: FutureWarning: This implementation of AdamW is deprecated and will be removed in a future version. Use the PyTorch implementation torch.optim.AdamW instead, or set `no_deprecation_warning=True` to disable this warning\n",
      "  warnings.warn(\n",
      "/tmp/ipykernel_3675/2123503008.py:92: FutureWarning: `torch.cuda.amp.GradScaler(args...)` is deprecated. Please use `torch.amp.GradScaler('cuda', args...)` instead.\n",
      "  scaler = torch.cuda.amp.GradScaler()\n",
      "/tmp/ipykernel_3675/2123503008.py:106: FutureWarning: `torch.cuda.amp.autocast(args...)` is deprecated. Please use `torch.amp.autocast('cuda', args...)` instead.\n",
      "  with torch.cuda.amp.autocast():\n",
      "Training Epoch 1: 100%|██████████| 5302/5302 [15:13<00:00,  5.80it/s]\n"
     ]
    },
    {
     "name": "stdout",
     "output_type": "stream",
     "text": [
      "Epoch 1/5, Loss: 0.1519\n",
      "Saved checkpoint to roberta-aNLI_epoch_1\n"
     ]
    },
    {
     "name": "stderr",
     "output_type": "stream",
     "text": [
      "Training Epoch 2: 100%|██████████| 5302/5302 [15:12<00:00,  5.81it/s]\n"
     ]
    },
    {
     "name": "stdout",
     "output_type": "stream",
     "text": [
      "Epoch 2/5, Loss: 0.0634\n",
      "Saved checkpoint to roberta-aNLI_epoch_2\n"
     ]
    },
    {
     "name": "stderr",
     "output_type": "stream",
     "text": [
      "Training Epoch 3: 100%|██████████| 5302/5302 [15:13<00:00,  5.80it/s]\n"
     ]
    },
    {
     "name": "stdout",
     "output_type": "stream",
     "text": [
      "Epoch 3/5, Loss: 0.0293\n",
      "Saved checkpoint to roberta-aNLI_epoch_3\n"
     ]
    },
    {
     "name": "stderr",
     "output_type": "stream",
     "text": [
      "Training Epoch 4: 100%|██████████| 5302/5302 [15:11<00:00,  5.81it/s]\n"
     ]
    },
    {
     "name": "stdout",
     "output_type": "stream",
     "text": [
      "Epoch 4/5, Loss: 0.0146\n",
      "Saved checkpoint to roberta-aNLI_epoch_4\n"
     ]
    },
    {
     "name": "stderr",
     "output_type": "stream",
     "text": [
      "Training Epoch 5: 100%|██████████| 5302/5302 [15:13<00:00,  5.80it/s]\n"
     ]
    },
    {
     "name": "stdout",
     "output_type": "stream",
     "text": [
      "Epoch 5/5, Loss: 0.0070\n",
      "Saved checkpoint to roberta-aNLI_epoch_5\n"
     ]
    }
   ],
   "source": [
    "import json\n",
    "import torch\n",
    "from transformers import AutoTokenizer, AutoModelForSequenceClassification, AdamW, get_linear_schedule_with_warmup\n",
    "from torch.utils.data import DataLoader\n",
    "from tqdm import tqdm\n",
    "\n",
    "train_jsonl = \"alphanli-train-dev/train.jsonl\"\n",
    "train_labels = \"alphanli-train-dev/train-labels.lst\"  \n",
    "\n",
    "def load_data(jsonl_file, labels_file):\n",
    "    data = []\n",
    "    with open(jsonl_file, \"r\") as f_json, open(labels_file, \"r\") as f_labels:\n",
    "        labels = [int(line.strip()) for line in f_labels.readlines()]\n",
    "        for idx, line in enumerate(f_json):\n",
    "            entry = json.loads(line.strip())\n",
    "            data.append({\n",
    "                \"obs1\": entry[\"obs1\"],\n",
    "                \"obs2\": entry[\"obs2\"],\n",
    "                \"hyp1\": entry[\"hyp1\"],\n",
    "                \"hyp2\": entry[\"hyp2\"],\n",
    "                \"label\": labels[idx]  \n",
    "            })\n",
    "    return data\n",
    "\n",
    "train_data = load_data(train_jsonl, train_labels)\n",
    "\n",
    "class ANLIDataset(torch.utils.data.Dataset):\n",
    "    def __init__(self, data, tokenizer, max_length=128):\n",
    "        self.data = data\n",
    "        self.tokenizer = tokenizer\n",
    "        self.max_length = max_length\n",
    "\n",
    "    def __len__(self):\n",
    "        return len(self.data)\n",
    "\n",
    "    def __getitem__(self, idx):\n",
    "        entry = self.data[idx]\n",
    "\n",
    "        premise = f\"{entry['obs1']} {entry['obs2']}\"\n",
    "\n",
    "        encoding1 = self.tokenizer(\n",
    "            premise, entry['hyp1'],\n",
    "            truncation=True, padding='max_length', max_length=self.max_length,\n",
    "            return_tensors=\"pt\"\n",
    "        )\n",
    "        encoding2 = self.tokenizer(\n",
    "            premise, entry['hyp2'],\n",
    "            truncation=True, padding='max_length', max_length=self.max_length,\n",
    "            return_tensors=\"pt\"\n",
    "        )\n",
    "\n",
    "        encoding1 = {k: v.squeeze(0) for k, v in encoding1.items()}\n",
    "        encoding2 = {k: v.squeeze(0) for k, v in encoding2.items()}\n",
    "\n",
    "        label = entry[\"label\"] - 1\n",
    "        return {\"input1\": encoding1, \"input2\": encoding2, \"label\": label}\n",
    "\n",
    "def collate_fn(batch):\n",
    "    batch_input1 = {}\n",
    "    batch_input2 = {}\n",
    "    keys = list(batch[0][\"input1\"].keys())\n",
    "    for k in keys:\n",
    "        batch_input1[k] = torch.stack([item[\"input1\"][k] for item in batch])\n",
    "        batch_input2[k] = torch.stack([item[\"input2\"][k] for item in batch])\n",
    "    labels = torch.tensor([item[\"label\"] for item in batch])\n",
    "    return {\"input1\": batch_input1, \"input2\": batch_input2, \"labels\": labels}\n",
    "\n",
    "model_name = \"roberta-large-mnli\"\n",
    "tokenizer = AutoTokenizer.from_pretrained(model_name)\n",
    "model = AutoModelForSequenceClassification.from_pretrained(model_name)\n",
    "device = torch.device(\"cuda\" if torch.cuda.is_available() else \"cpu\")\n",
    "model.to(device)\n",
    "\n",
    "batch_size = 32\n",
    "train_dataset = ANLIDataset(train_data, tokenizer, max_length=128)\n",
    "train_loader = DataLoader(train_dataset, batch_size=batch_size, shuffle=True, collate_fn=collate_fn)\n",
    "\n",
    "optimizer = AdamW(model.parameters(), lr=2e-5)\n",
    "num_epochs = 5\n",
    "total_steps = len(train_loader) * num_epochs\n",
    "scheduler = get_linear_schedule_with_warmup(optimizer, num_warmup_steps=0, num_training_steps=total_steps)\n",
    "loss_fn = torch.nn.CrossEntropyLoss()\n",
    "\n",
    "scaler = torch.cuda.amp.GradScaler()\n",
    "\n",
    "model.train()\n",
    "for epoch in range(num_epochs):\n",
    "    total_loss = 0.0\n",
    "    for batch in tqdm(train_loader, desc=f\"Training Epoch {epoch+1}\"):\n",
    "        optimizer.zero_grad()\n",
    "\n",
    "        batch_input1 = {k: v.to(device) for k, v in batch[\"input1\"].items()}\n",
    "        batch_input2 = {k: v.to(device) for k, v in batch[\"input2\"].items()}\n",
    "        labels = batch[\"labels\"].to(device)\n",
    "        \n",
    "        with torch.cuda.amp.autocast():\n",
    "            outputs1 = model(**batch_input1)\n",
    "            outputs2 = model(**batch_input2)\n",
    "\n",
    "            score1 = outputs1.logits[:, 2]\n",
    "            score2 = outputs2.logits[:, 2]\n",
    "\n",
    "            logits = torch.stack([score1, score2], dim=1)\n",
    "            loss = loss_fn(logits, labels)\n",
    "        \n",
    "        scaler.scale(loss).backward()\n",
    "        scaler.step(optimizer)\n",
    "        scaler.update()\n",
    "        scheduler.step()\n",
    "        total_loss += loss.item()\n",
    "        \n",
    "    avg_loss = total_loss / len(train_loader)\n",
    "    print(f\"Epoch {epoch+1}/{num_epochs}, Loss: {avg_loss:.4f}\")\n",
    "    \n",
    "    output_dir = f\"roberta-aNLI_epoch_{epoch+1}\"\n",
    "    model.save_pretrained(output_dir)\n",
    "    tokenizer.save_pretrained(output_dir)\n",
    "    print(f\"Saved checkpoint to {output_dir}\")"
   ]
  },
  {
   "cell_type": "code",
   "execution_count": 3,
   "id": "6b2c1178-37a9-4798-aab5-f11c3720b049",
   "metadata": {
    "tags": []
   },
   "outputs": [
    {
     "name": "stderr",
     "output_type": "stream",
     "text": [
      "Evaluating Dev Set: 100%|██████████| 48/48 [00:15<00:00,  3.10it/s]"
     ]
    },
    {
     "name": "stdout",
     "output_type": "stream",
     "text": [
      "Dev Accuracy: 0.8198\n",
      "Dev Precision: 0.8208\n",
      "Dev Recall: 0.8271\n",
      "Dev F1 Score: 0.8240\n"
     ]
    },
    {
     "name": "stderr",
     "output_type": "stream",
     "text": [
      "\n"
     ]
    }
   ],
   "source": [
    "dev_jsonl = \"alphanli-train-dev/dev.jsonl\"\n",
    "dev_labels = \"alphanli-train-dev/dev-labels.lst\"\n",
    "\n",
    "dev_data = load_data(dev_jsonl, dev_labels)\n",
    "\n",
    "dev_dataset = ANLIDataset(dev_data, tokenizer, max_length=128)\n",
    "dev_loader = DataLoader(dev_dataset, batch_size=batch_size, shuffle=False, collate_fn=collate_fn)\n",
    "\n",
    "model.eval()\n",
    "all_preds = []\n",
    "all_labels = []\n",
    "\n",
    "with torch.no_grad():\n",
    "    for batch in tqdm(dev_loader, desc=\"Evaluating Dev Set\"):\n",
    "        # Move batch inputs to device.\n",
    "        batch_input1 = {k: v.to(device) for k, v in batch[\"input1\"].items()}\n",
    "        batch_input2 = {k: v.to(device) for k, v in batch[\"input2\"].items()}\n",
    "        labels = batch[\"labels\"].to(device)\n",
    "        \n",
    "        outputs1 = model(**batch_input1)\n",
    "        outputs2 = model(**batch_input2)\n",
    "        \n",
    "        score1 = outputs1.logits[:, 2]\n",
    "        score2 = outputs2.logits[:, 2]\n",
    "        \n",
    "        logits = torch.stack([score1, score2], dim=1)\n",
    "\n",
    "        preds = torch.argmax(logits, dim=1) + 1\n",
    "        \n",
    "        all_preds.extend(preds.cpu().tolist())\n",
    "        all_labels.extend((labels + 1).cpu().tolist())\n",
    "\n",
    "from sklearn.metrics import accuracy_score, precision_recall_fscore_support\n",
    "\n",
    "accuracy = accuracy_score(all_labels, all_preds)\n",
    "precision, recall, f1, _ = precision_recall_fscore_support(all_labels, all_preds, average=\"binary\", pos_label=1)\n",
    "\n",
    "print(f\"Dev Accuracy: {accuracy:.4f}\")\n",
    "print(f\"Dev Precision: {precision:.4f}\")\n",
    "print(f\"Dev Recall: {recall:.4f}\")\n",
    "print(f\"Dev F1 Score: {f1:.4f}\")"
   ]
  },
  {
   "cell_type": "code",
   "execution_count": null,
   "id": "fd5b8f05-ad51-473b-8207-5762d9445fe1",
   "metadata": {},
   "outputs": [],
   "source": []
  }
 ],
 "metadata": {
  "kernelspec": {
   "display_name": "Python 3 (ipykernel)",
   "language": "python",
   "name": "python3"
  },
  "language_info": {
   "codemirror_mode": {
    "name": "ipython",
    "version": 3
   },
   "file_extension": ".py",
   "mimetype": "text/x-python",
   "name": "python",
   "nbconvert_exporter": "python",
   "pygments_lexer": "ipython3",
   "version": "3.12.8"
  }
 },
 "nbformat": 4,
 "nbformat_minor": 5
}
