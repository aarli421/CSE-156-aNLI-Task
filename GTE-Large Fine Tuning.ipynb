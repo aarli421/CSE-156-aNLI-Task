{
 "cells": [
  {
   "cell_type": "code",
   "execution_count": 2,
   "id": "6febb703-7c57-4a7e-9582-41dbceda290e",
   "metadata": {
    "tags": []
   },
   "outputs": [
    {
     "name": "stderr",
     "output_type": "stream",
     "text": [
      "/tmp/ipykernel_2977/3608321106.py:102: FutureWarning: `torch.cuda.amp.GradScaler(args...)` is deprecated. Please use `torch.amp.GradScaler('cuda', args...)` instead.\n",
      "  scaler = torch.cuda.amp.GradScaler()\n",
      "/tmp/ipykernel_2977/3608321106.py:116: FutureWarning: `torch.cuda.amp.autocast(args...)` is deprecated. Please use `torch.amp.autocast('cuda', args...)` instead.\n",
      "  with torch.cuda.amp.autocast():\n",
      "Training Epoch 1: 100%|██████████| 5302/5302 [15:15<00:00,  5.79it/s]\n"
     ]
    },
    {
     "name": "stdout",
     "output_type": "stream",
     "text": [
      "Epoch 1/5, Loss: 0.2615\n",
      "Saved checkpoint to gte-aNLI_epoch_1\n"
     ]
    },
    {
     "name": "stderr",
     "output_type": "stream",
     "text": [
      "Training Epoch 2: 100%|██████████| 5302/5302 [15:15<00:00,  5.79it/s]\n"
     ]
    },
    {
     "name": "stdout",
     "output_type": "stream",
     "text": [
      "Epoch 2/5, Loss: 0.0890\n",
      "Saved checkpoint to gte-aNLI_epoch_2\n"
     ]
    },
    {
     "name": "stderr",
     "output_type": "stream",
     "text": [
      "Training Epoch 3: 100%|██████████| 5302/5302 [15:16<00:00,  5.79it/s]\n"
     ]
    },
    {
     "name": "stdout",
     "output_type": "stream",
     "text": [
      "Epoch 3/5, Loss: 0.0327\n",
      "Saved checkpoint to gte-aNLI_epoch_3\n"
     ]
    },
    {
     "name": "stderr",
     "output_type": "stream",
     "text": [
      "Training Epoch 4: 100%|██████████| 5302/5302 [15:16<00:00,  5.79it/s]\n"
     ]
    },
    {
     "name": "stdout",
     "output_type": "stream",
     "text": [
      "Epoch 4/5, Loss: 0.0162\n",
      "Saved checkpoint to gte-aNLI_epoch_4\n"
     ]
    },
    {
     "name": "stderr",
     "output_type": "stream",
     "text": [
      "Training Epoch 5: 100%|██████████| 5302/5302 [15:17<00:00,  5.78it/s]\n"
     ]
    },
    {
     "name": "stdout",
     "output_type": "stream",
     "text": [
      "Epoch 5/5, Loss: 0.0090\n",
      "Saved checkpoint to gte-aNLI_epoch_5\n"
     ]
    }
   ],
   "source": [
    "import json\n",
    "import torch\n",
    "from transformers import AutoTokenizer, AutoModelForSequenceClassification, AdamW, get_linear_schedule_with_warmup\n",
    "from torch.utils.data import DataLoader\n",
    "from tqdm import tqdm\n",
    "from sklearn.metrics import accuracy_score, precision_recall_fscore_support\n",
    "\n",
    "train_jsonl = \"alphanli-train-dev/train.jsonl\"\n",
    "train_labels = \"alphanli-train-dev/train-labels.lst\"  \n",
    "dev_jsonl = \"alphanli-train-dev/dev.jsonl\"\n",
    "dev_labels = \"alphanli-train-dev/dev-labels.lst\"\n",
    "\n",
    "def load_data(jsonl_file, labels_file):\n",
    "    data = []\n",
    "    with open(jsonl_file, \"r\") as f_json, open(labels_file, \"r\") as f_labels:\n",
    "        labels = [int(line.strip()) for line in f_labels.readlines()]\n",
    "        for idx, line in enumerate(f_json):\n",
    "            entry = json.loads(line.strip())\n",
    "            data.append({\n",
    "                \"obs1\": entry[\"obs1\"],\n",
    "                \"obs2\": entry[\"obs2\"],\n",
    "                \"hyp1\": entry[\"hyp1\"],\n",
    "                \"hyp2\": entry[\"hyp2\"],\n",
    "                \"label\": labels[idx] \n",
    "            })\n",
    "    return data\n",
    "\n",
    "train_data = load_data(train_jsonl, train_labels)\n",
    "dev_data = load_data(dev_jsonl, dev_labels)\n",
    "\n",
    "class ANLIDataset(torch.utils.data.Dataset):\n",
    "    def __init__(self, data, tokenizer, max_length=128):\n",
    "        self.data = data\n",
    "        self.tokenizer = tokenizer\n",
    "        self.max_length = max_length\n",
    "\n",
    "    def __len__(self):\n",
    "        return len(self.data)\n",
    "\n",
    "    def __getitem__(self, idx):\n",
    "        entry = self.data[idx]\n",
    "        premise = f\"{entry['obs1']} {entry['obs2']}\"\n",
    "\n",
    "        encoding1 = self.tokenizer(\n",
    "            premise, entry['hyp1'],\n",
    "            truncation=True, padding='max_length', max_length=self.max_length,\n",
    "            return_tensors=\"pt\"\n",
    "        )\n",
    "        encoding2 = self.tokenizer(\n",
    "            premise, entry['hyp2'],\n",
    "            truncation=True, padding='max_length', max_length=self.max_length,\n",
    "            return_tensors=\"pt\"\n",
    "        )\n",
    "\n",
    "        encoding1 = {k: v.squeeze(0) for k, v in encoding1.items()}\n",
    "        encoding2 = {k: v.squeeze(0) for k, v in encoding2.items()}\n",
    "        \n",
    "        label = entry[\"label\"] - 1\n",
    "        return {\"input1\": encoding1, \"input2\": encoding2, \"label\": label}\n",
    "\n",
    "def collate_fn(batch):\n",
    "    batch_input1 = {}\n",
    "    batch_input2 = {}\n",
    "    keys = list(batch[0][\"input1\"].keys())\n",
    "    for k in keys:\n",
    "        batch_input1[k] = torch.stack([item[\"input1\"][k] for item in batch])\n",
    "        batch_input2[k] = torch.stack([item[\"input2\"][k] for item in batch])\n",
    "    labels = torch.tensor([item[\"label\"] for item in batch])\n",
    "    return {\"input1\": batch_input1, \"input2\": batch_input2, \"labels\": labels}\n",
    "\n",
    "train_dataset = ANLIDataset(train_data, tokenizer=None)  \n",
    "dev_dataset = ANLIDataset(dev_data, tokenizer=None)\n",
    "\n",
    "model_name = \"mjwong/gte-large-mnli-anli\"\n",
    "tokenizer = AutoTokenizer.from_pretrained(model_name)\n",
    "model = AutoModelForSequenceClassification.from_pretrained(model_name)\n",
    "\n",
    "train_dataset.tokenizer = tokenizer\n",
    "dev_dataset.tokenizer = tokenizer\n",
    "\n",
    "train_loader = DataLoader(train_dataset, batch_size=32, shuffle=True, collate_fn=collate_fn)\n",
    "dev_loader = DataLoader(dev_dataset, batch_size=32, shuffle=False, collate_fn=collate_fn)\n",
    "\n",
    "device = torch.device(\"cuda\" if torch.cuda.is_available() else \"cpu\")\n",
    "model.to(device)\n",
    "\n",
    "optimizer = AdamW(model.parameters(), lr=2e-5)\n",
    "num_epochs = 5\n",
    "total_steps = len(train_loader) * num_epochs\n",
    "scheduler = get_linear_schedule_with_warmup(optimizer, num_warmup_steps=0, num_training_steps=total_steps)\n",
    "loss_fn = torch.nn.CrossEntropyLoss()\n",
    "\n",
    "scaler = torch.cuda.amp.GradScaler()\n",
    "\n",
    "model.train()\n",
    "for epoch in range(num_epochs):\n",
    "    total_loss = 0.0\n",
    "    for batch in tqdm(train_loader, desc=f\"Training Epoch {epoch+1}\"):\n",
    "        optimizer.zero_grad()\n",
    "\n",
    "        batch_input1 = {k: v.to(device) for k, v in batch[\"input1\"].items()}\n",
    "        batch_input2 = {k: v.to(device) for k, v in batch[\"input2\"].items()}\n",
    "        labels = batch[\"labels\"].to(device)\n",
    "        \n",
    "        with torch.cuda.amp.autocast():\n",
    "            outputs1 = model(**batch_input1)\n",
    "            outputs2 = model(**batch_input2)\n",
    "\n",
    "            score1 = outputs1.logits[:, 2]\n",
    "            score2 = outputs2.logits[:, 2]\n",
    "            logits = torch.stack([score1, score2], dim=1)\n",
    "            loss = loss_fn(logits, labels)\n",
    "        \n",
    "        scaler.scale(loss).backward()\n",
    "        scaler.step(optimizer)\n",
    "        scaler.update()\n",
    "        scheduler.step()\n",
    "        total_loss += loss.item()\n",
    "        \n",
    "    avg_loss = total_loss / len(train_loader)\n",
    "    print(f\"Epoch {epoch+1}/{num_epochs}, Loss: {avg_loss:.4f}\")\n",
    "    \n",
    "    output_dir = f\"gte-aNLI_epoch_{epoch+1}\"\n",
    "    model.save_pretrained(output_dir)\n",
    "    tokenizer.save_pretrained(output_dir)\n",
    "    print(f\"Saved checkpoint to {output_dir}\")"
   ]
  },
  {
   "cell_type": "markdown",
   "id": "cfb41fae-488c-48b0-afb1-49adf6ea984a",
   "metadata": {},
   "source": [
    "# Eval"
   ]
  },
  {
   "cell_type": "code",
   "execution_count": 3,
   "id": "4eb02214-a040-4d03-be3f-bec383ffe1e5",
   "metadata": {
    "tags": []
   },
   "outputs": [
    {
     "name": "stderr",
     "output_type": "stream",
     "text": [
      "Evaluating: 100%|██████████| 48/48 [00:15<00:00,  3.09it/s]"
     ]
    },
    {
     "name": "stdout",
     "output_type": "stream",
     "text": [
      "Dev Accuracy: 0.6704\n",
      "Dev Precision: 0.6816\n",
      "Dev Recall: 0.6633\n",
      "Dev F1-score: 0.6723\n"
     ]
    },
    {
     "name": "stderr",
     "output_type": "stream",
     "text": [
      "\n"
     ]
    }
   ],
   "source": [
    "model.eval()\n",
    "all_preds = []\n",
    "all_labels = []\n",
    "\n",
    "with torch.no_grad():\n",
    "    for batch in tqdm(dev_loader, desc=\"Evaluating\"):\n",
    "\n",
    "        batch_input1 = {k: v.to(device) for k, v in batch[\"input1\"].items()}\n",
    "        batch_input2 = {k: v.to(device) for k, v in batch[\"input2\"].items()}\n",
    "        labels = batch[\"labels\"].to(device)\n",
    "        \n",
    "        outputs1 = model(**batch_input1)\n",
    "        outputs2 = model(**batch_input2)\n",
    "        \n",
    "        score1 = outputs1.logits[:, 2]\n",
    "        score2 = outputs2.logits[:, 2]\n",
    "        logits = torch.stack([score1, score2], dim=1)\n",
    "        \n",
    "        preds = torch.argmax(logits, dim=1) + 1\n",
    "        \n",
    "        all_preds.extend(preds.cpu().numpy().tolist())\n",
    "        all_labels.extend((labels.cpu().numpy() + 1).tolist())\n",
    "\n",
    "accuracy = accuracy_score(all_labels, all_preds)\n",
    "precision, recall, f1, _ = precision_recall_fscore_support(\n",
    "    all_labels, all_preds, average=\"binary\", pos_label=1\n",
    ")\n",
    "\n",
    "print(f\"Dev Accuracy: {accuracy:.4f}\")\n",
    "print(f\"Dev Precision: {precision:.4f}\")\n",
    "print(f\"Dev Recall: {recall:.4f}\")\n",
    "print(f\"Dev F1-score: {f1:.4f}\")"
   ]
  },
  {
   "cell_type": "code",
   "execution_count": null,
   "id": "959b985a-90ba-481c-b12d-58928dabfdf4",
   "metadata": {},
   "outputs": [],
   "source": []
  }
 ],
 "metadata": {
  "kernelspec": {
   "display_name": "Python 3 (ipykernel)",
   "language": "python",
   "name": "python3"
  },
  "language_info": {
   "codemirror_mode": {
    "name": "ipython",
    "version": 3
   },
   "file_extension": ".py",
   "mimetype": "text/x-python",
   "name": "python",
   "nbconvert_exporter": "python",
   "pygments_lexer": "ipython3",
   "version": "3.12.8"
  }
 },
 "nbformat": 4,
 "nbformat_minor": 5
}
