{
 "cells": [
  {
   "cell_type": "markdown",
   "id": "7b0df2a3-c692-4eed-bcad-fdddfefd6b76",
   "metadata": {},
   "source": [
    "# Imports"
   ]
  },
  {
   "cell_type": "code",
   "execution_count": 1,
   "id": "60b0be07-6ad8-400b-9653-2ba20a195755",
   "metadata": {
    "tags": []
   },
   "outputs": [],
   "source": [
    "import json\n",
    "import torch\n",
    "from torch.utils.data import Dataset, DataLoader\n",
    "from transformers import T5Tokenizer, T5ForConditionalGeneration, AdamW\n",
    "\n",
    "from tqdm import tqdm"
   ]
  },
  {
   "cell_type": "code",
   "execution_count": 2,
   "id": "3f52e127-ef78-4369-abaf-c87625a6ff13",
   "metadata": {
    "tags": []
   },
   "outputs": [
    {
     "name": "stderr",
     "output_type": "stream",
     "text": [
      "You are using the default legacy behaviour of the <class 'transformers.models.t5.tokenization_t5.T5Tokenizer'>. This is expected, and simply means that the `legacy` (previous) behavior will be used so nothing changes for you. If you want to use the new behaviour, set `legacy=False`. This should only be set if you understand what it means, and thoroughly read the reason why this was added as explained in https://github.com/huggingface/transformers/pull/24565\n"
     ]
    }
   ],
   "source": [
    "tokenizer = T5Tokenizer.from_pretrained(\"t5-base\")\n",
    "\n",
    "train_jsonl = \"alphanli-train-dev/train.jsonl\"\n",
    "train_labels = \"alphanli-train-dev/train-labels.lst\"\n",
    "dev_jsonl = \"alphanli-train-dev/dev.jsonl\"\n",
    "dev_labels = \"alphanli-train-dev/dev-labels.lst\""
   ]
  },
  {
   "cell_type": "markdown",
   "id": "9d6b51f1-c420-4330-8941-836a09e17ba2",
   "metadata": {},
   "source": [
    "# Helpers"
   ]
  },
  {
   "cell_type": "code",
   "execution_count": 3,
   "id": "081d2bc2-bbc8-4fc7-86e5-b0929218c75c",
   "metadata": {
    "tags": []
   },
   "outputs": [],
   "source": [
    "def load_data(jsonl_file, labels_file):\n",
    "    data = []\n",
    "    with open(jsonl_file, \"r\") as f_json, open(labels_file, \"r\") as f_labels:\n",
    "        labels = [int(line.strip()) for line in f_labels.readlines()]\n",
    "        for idx, line in enumerate(f_json):\n",
    "            entry = json.loads(line.strip())\n",
    "            data.append({\n",
    "                \"obs1\": entry[\"obs1\"],\n",
    "                \"obs2\": entry[\"obs2\"],\n",
    "                \"hyp1\": entry[\"hyp1\"],\n",
    "                \"hyp2\": entry[\"hyp2\"],\n",
    "                \"label\": labels[idx]\n",
    "            })\n",
    "    return data\n",
    "\n",
    "train_data = load_data(train_jsonl, train_labels)\n",
    "dev_data = load_data(dev_jsonl, dev_labels)\n",
    "\n",
    "def format_input(entry):\n",
    "    return f\"obs1: {entry['obs1']} obs2: {entry['obs2']} hyp1: {entry['hyp1']} hyp2: {entry['hyp2']} Which hypothesis is more plausible?\"\n",
    "\n",
    "class aNLIDataset(Dataset):\n",
    "    def __init__(self, data, tokenizer, max_len=128):\n",
    "        self.data = data\n",
    "        self.tokenizer = tokenizer\n",
    "        self.max_len = max_len\n",
    "\n",
    "    def __len__(self):\n",
    "        return len(self.data)\n",
    "\n",
    "    def __getitem__(self, idx):\n",
    "        entry = self.data[idx]\n",
    "        input_text = format_input(entry)\n",
    "        label_text = str(entry[\"label\"])  # \"1\" or \"2\"\n",
    "\n",
    "        inputs = self.tokenizer(input_text, max_length=self.max_len, padding=\"max_length\", truncation=True, return_tensors=\"pt\")\n",
    "        labels = self.tokenizer(label_text, max_length=2, padding=\"max_length\", truncation=True, return_tensors=\"pt\")\n",
    "\n",
    "        return {\n",
    "            \"input_ids\": inputs[\"input_ids\"].squeeze(),\n",
    "            \"attention_mask\": inputs[\"attention_mask\"].squeeze(),\n",
    "            \"labels\": labels[\"input_ids\"].squeeze()\n",
    "        }\n",
    "\n",
    "train_dataset = aNLIDataset(train_data, tokenizer)\n",
    "dev_dataset = aNLIDataset(dev_data, tokenizer)\n",
    "\n",
    "train_loader = DataLoader(train_dataset, batch_size=8, shuffle=True)\n",
    "dev_loader = DataLoader(dev_dataset, batch_size=8)"
   ]
  },
  {
   "cell_type": "markdown",
   "id": "87ef3544-154e-4fae-9ef9-e44cd0c4e73f",
   "metadata": {},
   "source": [
    "# Train"
   ]
  },
  {
   "cell_type": "code",
   "execution_count": 6,
   "id": "a88f214c-e9b0-44ba-b186-6d3cc0c83a8a",
   "metadata": {
    "tags": []
   },
   "outputs": [
    {
     "name": "stderr",
     "output_type": "stream",
     "text": [
      "100%|██████████| 21207/21207 [33:39<00:00, 10.50it/s]\n"
     ]
    },
    {
     "name": "stdout",
     "output_type": "stream",
     "text": [
      "Epoch 1: Loss = 0.1561\n",
      "Saved model checkpoint to t5-aNLI_epoch_1\n"
     ]
    },
    {
     "name": "stderr",
     "output_type": "stream",
     "text": [
      "100%|██████████| 21207/21207 [33:36<00:00, 10.52it/s]\n"
     ]
    },
    {
     "name": "stdout",
     "output_type": "stream",
     "text": [
      "Epoch 2: Loss = 0.0893\n",
      "Saved model checkpoint to t5-aNLI_epoch_2\n"
     ]
    },
    {
     "name": "stderr",
     "output_type": "stream",
     "text": [
      "100%|██████████| 21207/21207 [33:48<00:00, 10.46it/s]\n"
     ]
    },
    {
     "name": "stdout",
     "output_type": "stream",
     "text": [
      "Epoch 3: Loss = 0.0575\n",
      "Saved model checkpoint to t5-aNLI_epoch_3\n"
     ]
    },
    {
     "name": "stderr",
     "output_type": "stream",
     "text": [
      "100%|██████████| 21207/21207 [33:46<00:00, 10.46it/s]\n"
     ]
    },
    {
     "name": "stdout",
     "output_type": "stream",
     "text": [
      "Epoch 4: Loss = 0.0393\n",
      "Saved model checkpoint to t5-aNLI_epoch_4\n"
     ]
    },
    {
     "name": "stderr",
     "output_type": "stream",
     "text": [
      "100%|██████████| 21207/21207 [33:45<00:00, 10.47it/s]\n"
     ]
    },
    {
     "name": "stdout",
     "output_type": "stream",
     "text": [
      "Epoch 5: Loss = 0.0279\n",
      "Saved model checkpoint to t5-aNLI_epoch_5\n",
      "Saved final model to t5-aNLI_final\n"
     ]
    }
   ],
   "source": [
    "device = torch.device(\"cuda\" if torch.cuda.is_available() else \"cpu\")\n",
    "model = T5ForConditionalGeneration.from_pretrained(\"t5-base\").to(device)\n",
    "optimizer = AdamW(model.parameters(), lr=3e-5)\n",
    "\n",
    "epochs = 5\n",
    "for epoch in range(epochs):\n",
    "    model.train()\n",
    "    total_loss = 0\n",
    "    for batch in tqdm(train_loader):\n",
    "        optimizer.zero_grad()\n",
    "        \n",
    "        input_ids = batch[\"input_ids\"].to(device)\n",
    "        attention_mask = batch[\"attention_mask\"].to(device)\n",
    "        labels = batch[\"labels\"].to(device)\n",
    "\n",
    "        outputs = model(input_ids=input_ids, attention_mask=attention_mask, labels=labels)\n",
    "        loss = outputs.loss\n",
    "        total_loss += loss.item()\n",
    "        \n",
    "        loss.backward()\n",
    "        optimizer.step()\n",
    "    \n",
    "    avg_loss = total_loss / len(train_loader)\n",
    "    print(f\"Epoch {epoch+1}: Loss = {avg_loss:.4f}\")\n",
    "\n",
    "    output_dir = f\"t5-aNLI_epoch_{epoch+1}\"\n",
    "    model.save_pretrained(output_dir)\n",
    "    tokenizer.save_pretrained(output_dir)\n",
    "    print(f\"Saved model checkpoint to {output_dir}\")\n",
    "\n",
    "final_output_dir = \"t5-aNLI_final\"\n",
    "model.save_pretrained(final_output_dir)\n",
    "tokenizer.save_pretrained(final_output_dir)\n",
    "print(f\"Saved final model to {final_output_dir}\")"
   ]
  },
  {
   "cell_type": "markdown",
   "id": "e3e338f4-f1cb-4f8b-9793-10003240fa2e",
   "metadata": {},
   "source": [
    "# Eval"
   ]
  },
  {
   "cell_type": "code",
   "execution_count": 17,
   "id": "9900eac5-17f6-438f-b074-fa6fdc90672f",
   "metadata": {},
   "outputs": [
    {
     "name": "stderr",
     "output_type": "stream",
     "text": [
      "Evaluating: 100%|██████████| 192/192 [00:06<00:00, 27.45it/s]"
     ]
    },
    {
     "name": "stdout",
     "output_type": "stream",
     "text": [
      "Dev Accuracy: 0.6749\n",
      "Dev Precision: 0.6845\n",
      "Dev Recall: 0.6722\n",
      "Dev F1-score: 0.6783\n"
     ]
    },
    {
     "name": "stderr",
     "output_type": "stream",
     "text": [
      "\n"
     ]
    }
   ],
   "source": [
    "from sklearn.metrics import accuracy_score, precision_recall_fscore_support\n",
    "\n",
    "model_dir = \"t5-aNLI_epoch_5\"\n",
    "tokenizer = T5Tokenizer.from_pretrained(model_dir)\n",
    "model = T5ForConditionalGeneration.from_pretrained(model_dir).to(torch.device(\"cuda\" if torch.cuda.is_available() else \"cpu\"))\n",
    "\n",
    "model.eval()\n",
    "all_preds = []\n",
    "all_labels = []\n",
    "\n",
    "with torch.no_grad():\n",
    "    for batch in tqdm(dev_loader, desc=\"Evaluating\"):\n",
    "        input_ids = batch[\"input_ids\"].to(device)\n",
    "        attention_mask = batch[\"attention_mask\"].to(device)\n",
    "\n",
    "        generated_ids = model.generate(input_ids=input_ids, attention_mask=attention_mask, max_length=2)\n",
    "        \n",
    "        preds = [tokenizer.decode(g, skip_special_tokens=True).strip() for g in generated_ids]\n",
    "        true_labels = [tokenizer.decode(lbl, skip_special_tokens=True).strip() for lbl in batch[\"labels\"]]\n",
    "        \n",
    "        preds = [int(p) for p in preds]\n",
    "        true_labels = [int(t) for t in true_labels]\n",
    "        \n",
    "        all_preds.extend(preds)\n",
    "        all_labels.extend(true_labels)\n",
    "\n",
    "accuracy = accuracy_score(all_labels, all_preds)\n",
    "precision, recall, f1, _ = precision_recall_fscore_support(all_labels, all_preds, average=\"binary\", pos_label=1)\n",
    "\n",
    "print(f\"Dev Accuracy: {accuracy:.4f}\")\n",
    "print(f\"Dev Precision: {precision:.4f}\")\n",
    "print(f\"Dev Recall: {recall:.4f}\")\n",
    "print(f\"Dev F1-score: {f1:.4f}\")"
   ]
  },
  {
   "cell_type": "code",
   "execution_count": null,
   "id": "cfc064aa-0f26-4423-958e-7c5f8206fafb",
   "metadata": {},
   "outputs": [],
   "source": []
  }
 ],
 "metadata": {
  "kernelspec": {
   "display_name": "Python 3 (ipykernel)",
   "language": "python",
   "name": "python3"
  },
  "language_info": {
   "codemirror_mode": {
    "name": "ipython",
    "version": 3
   },
   "file_extension": ".py",
   "mimetype": "text/x-python",
   "name": "python",
   "nbconvert_exporter": "python",
   "pygments_lexer": "ipython3",
   "version": "3.12.8"
  }
 },
 "nbformat": 4,
 "nbformat_minor": 5
}
